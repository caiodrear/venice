{
 "cells": [
  {
   "cell_type": "markdown",
   "metadata": {},
   "source": [
    "## Data Exploration"
   ]
  },
  {
   "cell_type": "code",
   "execution_count": 1,
   "metadata": {},
   "outputs": [],
   "source": [
    "#-----------------------------------packages-----------------------------------\n",
    "import pandas as pd\n",
    "import matplotlib.pyplot as plt\n",
    "import datetime as dt\n",
    "import numpy as np\n",
    "\n",
    "pd.set_option('display.max_columns', None)"
   ]
  },
  {
   "cell_type": "markdown",
   "metadata": {},
   "source": [
    "### Data Cleaning"
   ]
  },
  {
   "cell_type": "code",
   "execution_count": 2,
   "metadata": {},
   "outputs": [
    {
     "name": "stdout",
     "output_type": "stream",
     "text": [
      "title                          0.000039\n",
      "last_credit_pull_d             0.000058\n",
      "collections_12_mths_ex_med     0.000065\n",
      "revol_util                     0.000521\n",
      "last_pymnt_d                   0.010353\n",
      "emp_length                     0.050307\n",
      "emp_title                      0.057763\n",
      "total_rev_hi_lim               0.078640\n",
      "tot_cur_bal                    0.078640\n",
      "tot_coll_amt                   0.078640\n",
      "next_pymnt_d                   0.295538\n",
      "mths_since_last_delinq         0.513818\n",
      "mths_since_last_major_derog    0.750997\n",
      "mths_since_last_record         0.846742\n",
      "desc                           0.857691\n",
      "inq_fi                         0.984476\n",
      "all_util                       0.984476\n",
      "max_bal_bc                     0.984476\n",
      "open_rv_24m                    0.984476\n",
      "open_rv_12m                    0.984476\n",
      "total_bal_il                   0.984476\n",
      "open_il_24m                    0.984476\n",
      "open_il_12m                    0.984476\n",
      "open_il_6m                     0.984476\n",
      "open_acc_6m                    0.984476\n",
      "total_cu_tl                    0.984476\n",
      "inq_last_12m                   0.984476\n",
      "mths_since_rcnt_il             0.984890\n",
      "il_util                        0.986438\n",
      "verification_status_joint      0.999484\n",
      "annual_inc_joint               0.999484\n",
      "dti_joint                      0.999486\n",
      "dtype: float64\n"
     ]
    }
   ],
   "source": [
    "#-------------------------load data and assess quality-------------------------\n",
    "data = pd.read_table('data/XYZCorp_LendingData.txt', low_memory = False,\n",
    "                     parse_dates = ['issue_d', 'last_pymnt_d', 'next_pymnt_d',\n",
    "                                    'earliest_cr_line', 'last_credit_pull_d'])\n",
    "\n",
    "nan_props = data.isna().sum()/len(data)\n",
    "print(nan_props[nan_props > 0].sort_values())"
   ]
  },
  {
   "cell_type": "markdown",
   "metadata": {},
   "source": [
    "We begin by analysing columns with NaN any values. Columns fall into two categories here: those that have NaN due to missing data and those that have NaN due to the column being unapplicable for the borrower. For example we would expect each borrower to have entered <i>'emp_title'</i> but it is possible that a borrower has never been delinquent, giving a NaN in <i>'mths_since_last_delinq'</i>.\n",
    "\n",
    "The following columns contain at least one NaN value:"
   ]
  },
  {
   "cell_type": "code",
   "execution_count": 3,
   "metadata": {},
   "outputs": [
    {
     "name": "stdout",
     "output_type": "stream",
     "text": [
      "Index(['emp_title', 'emp_length', 'desc', 'title', 'mths_since_last_delinq',\n",
      "       'mths_since_last_record', 'revol_util', 'last_pymnt_d', 'next_pymnt_d',\n",
      "       'last_credit_pull_d', 'collections_12_mths_ex_med',\n",
      "       'mths_since_last_major_derog', 'annual_inc_joint', 'dti_joint',\n",
      "       'verification_status_joint', 'tot_coll_amt', 'tot_cur_bal',\n",
      "       'open_acc_6m', 'open_il_6m', 'open_il_12m', 'open_il_24m',\n",
      "       'mths_since_rcnt_il', 'total_bal_il', 'il_util', 'open_rv_12m',\n",
      "       'open_rv_24m', 'max_bal_bc', 'all_util', 'total_rev_hi_lim', 'inq_fi',\n",
      "       'total_cu_tl', 'inq_last_12m'],\n",
      "      dtype='object')\n"
     ]
    }
   ],
   "source": [
    "nan_cols = nan_props[nan_props > 0].index\n",
    "print(nan_cols)"
   ]
  },
  {
   "cell_type": "markdown",
   "metadata": {},
   "source": [
    "We first consider the employment columns: <i>'emp_title'</i> and <i>'emp_length'</i>. Observe that there are $290812$ categories in this column. In order to use this as a feature, we amalgamate any category with less than $100$ entries and any NaN values into an <i>other</i> category. We could combine these categories in a smarter way by considering each entry and where it best fits into the larger categories and distributing the NaN values proportionately, but we will keep things simple for now. As the employment length is made up of categories in $\\{\\text{`Unknown'},\\text{ NaN}\\} \\cup \\mathbb{N}$, we fill the NaN values with the median."
   ]
  },
  {
   "cell_type": "code",
   "execution_count": 4,
   "metadata": {},
   "outputs": [],
   "source": [
    "#---------------------------employment data cleaning---------------------------\n",
    "data['emp_length'] = data[data['emp_length'] !=\n",
    "     'Unknown']['emp_length'].str.replace('[a-z+< ]', '', regex = True)\n",
    "data['emp_length'].fillna(data['emp_length'].median(), inplace = True)\n",
    "\n",
    "emp_categories = data['emp_title'].value_counts()\n",
    "data.loc[~data['emp_title'].isin(\n",
    "         emp_categories[emp_categories > 100].index), 'emp_title'] = 'Other'"
   ]
  },
  {
   "cell_type": "markdown",
   "metadata": {},
   "source": [
    "For the columns relating to months since an event, we replace the NaN values with $-1$ and add a new column flagging the existence of these events. For those columns counting the occurences of events in certain time periods, we replace NaN values with the median."
   ]
  },
  {
   "cell_type": "code",
   "execution_count": 5,
   "metadata": {},
   "outputs": [],
   "source": [
    "#-------------------------event occurence data cleaning------------------------\n",
    "month_cols = ['mths_since_last_delinq', 'mths_since_last_record',\n",
    "              'mths_since_last_major_derog']\n",
    "\n",
    "data.fillna({col: -1 for col in month_cols}, inplace = True)\n",
    "for col in month_cols:\n",
    "    data[col + '_flag'] = data[col] != -1\n",
    "\n",
    "occurence_cols = ['collections_12_mths_ex_med', 'open_acc_6m', 'open_il_6m',\n",
    "                  'open_il_12m', 'open_il_24m', 'mths_since_rcnt_il',\n",
    "                  'open_rv_12m', 'open_rv_24m', 'inq_last_12m']\n",
    "\n",
    "data.fillna(data[occurence_cols].median().to_dict(), inplace = True)"
   ]
  },
  {
   "cell_type": "markdown",
   "metadata": {},
   "source": [
    "We only need the <i>'desc'</i> column for the NLP and so we can ignore the NaN values for now. The information in the the <i>'title'</i> column can be accessed more readily through the <i>'purpose'</i> column so we can drop this.\n",
    "\n",
    "The rest of the below columns have over $98\\%$ NaN values and so we drop these for simplicity."
   ]
  },
  {
   "cell_type": "code",
   "execution_count": 6,
   "metadata": {},
   "outputs": [],
   "source": [
    "#-------------------removing columns with too many NaN values------------------\n",
    "data.drop(['all_util', 'max_bal_bc', 'total_cu_tl', 'inq_fi', 'total_bal_il',\n",
    "           'il_util', 'annual_inc_joint', 'verification_status_joint',\n",
    "           'dti_joint', 'title'], axis = 1, inplace = True)"
   ]
  },
  {
   "cell_type": "markdown",
   "metadata": {},
   "source": [
    "For the date columns, we can see that the data is heavily concetrated around one value, so we replace the NaN values with the mode."
   ]
  },
  {
   "cell_type": "code",
   "execution_count": 7,
   "metadata": {},
   "outputs": [
    {
     "data": {
      "image/png": "[encoded data removed]",
      "text/plain": [
       "<Figure size 1080x288 with 3 Axes>"
      ]
     },
     "metadata": {
      "needs_background": "light"
     },
     "output_type": "display_data"
    }
   ],
   "source": [
    "#------------------------------date data cleaning------------------------------\n",
    "fig, axs = plt.subplots(1, 3, figsize=(15, 4), sharey=False)\n",
    "for n, col in enumerate(['next_pymnt_d', 'last_pymnt_d',\n",
    "                         'last_credit_pull_d']):\n",
    "    axs[n].hist(data[col], density = True)\n",
    "    axs[n].title.set_text(col)\n",
    "    axs[n].xaxis.set_visible(False)\n",
    "\n",
    "fig.suptitle('payment dates')\n",
    "plt.show\n",
    "\n",
    "data.fillna(data[['next_pymnt_d', 'last_pymnt_d',\n",
    "                  'last_credit_pull_d']].mode().iloc[0].to_dict(),\n",
    "            inplace = True)"
   ]
  },
  {
   "cell_type": "markdown",
   "metadata": {},
   "source": [
    "For the remaining columns, we replace NaN values with the median as it is robust to outliers."
   ]
  },
  {
   "cell_type": "code",
   "execution_count": 8,
   "metadata": {},
   "outputs": [],
   "source": [
    "#-------------------limits, balances and utlisation cleaning-------------------\n",
    "data.fillna(data[['revol_util', 'tot_coll_amt',\n",
    "                  'tot_cur_bal', 'total_rev_hi_lim']].median().to_dict(),\n",
    "            inplace = True)"
   ]
  },
  {
   "cell_type": "markdown",
   "metadata": {},
   "source": [
    "We now check for remaining NaN values and save the dataset that will be used for the NLP."
   ]
  },
  {
   "cell_type": "code",
   "execution_count": 9,
   "metadata": {},
   "outputs": [
    {
     "name": "stdout",
     "output_type": "stream",
     "text": [
      "Series([], dtype: float64)\n"
     ]
    }
   ],
   "source": [
    "#-----------------check for NaN values and save cleaned dataset----------------\n",
    "data[['desc', 'purpose']].dropna().to_csv('data/nlp_data.csv', index = False)\n",
    "data.drop('desc', axis = 1, inplace = True)\n",
    "\n",
    "nan_props = data.isna().sum()/len(data)\n",
    "print(nan_props[nan_props > 0].sort_values())"
   ]
  },
  {
   "cell_type": "markdown",
   "metadata": {},
   "source": [
    "### Column Selection"
   ]
  },
  {
   "cell_type": "markdown",
   "metadata": {},
   "source": [
    "We filter the dataset for individual policyholders as we previously dropped the joint policyholder information and drop the <i>'policy_code'</i> and <i>'application_type'</i> columns as each column only contains $1$ value.\n",
    "\n",
    "We can also drop columns which will not be relevant to any modelling such as <i>'id'</i> and <i>'member_id'</i>."
   ]
  },
  {
   "cell_type": "code",
   "execution_count": 10,
   "metadata": {},
   "outputs": [],
   "source": [
    "#----------------------dropping heavily one-sided columns----------------------\n",
    "data = data[data['application_type'] == 'INDIVIDUAL']\n",
    "data.drop(['policy_code', 'application_type',\n",
    "            'id', 'member_id'], axis = 1, inplace = True)"
   ]
  },
  {
   "cell_type": "markdown",
   "metadata": {},
   "source": [
    "In order to pass date data to any models, we will combine them in a number of ways to yield durations in days. For example, <i>last_pymnt_dt</i> will be converted to days between <i>last_pymnt_dt</i> and <i>issue_d</i>."
   ]
  },
  {
   "cell_type": "code",
   "execution_count": 11,
   "metadata": {},
   "outputs": [],
   "source": [
    "#---------------------converting date columns to durations---------------------\n",
    "data['last_pymnt_days'] = (data['last_pymnt_d'] - data['issue_d']).dt.days\n",
    "\n",
    "data['days_to_nxt_pymnt'] = (data['next_pymnt_d'] -\n",
    "                             data['last_pymnt_d']).dt.days\n",
    "\n",
    "data['last_credit_pull_days'] = (data['last_credit_pull_d'] -\n",
    "                                 data['issue_d']).dt.days\n",
    "\n",
    "data['days_after_first_credit'] = (data['issue_d'] -\n",
    "                                   data['earliest_cr_line']).dt.days\n",
    "\n",
    "data['issue_days'] = (data['issue_d'] - dt.datetime(2000, 1, 1)).dt.days\n",
    "\n",
    "data.drop(['last_pymnt_d', 'issue_d', 'next_pymnt_d', 'last_credit_pull_d',\n",
    "           'earliest_cr_line'], axis = 1, inplace = True)"
   ]
  },
  {
   "cell_type": "markdown",
   "metadata": {},
   "source": [
    "### Outliers"
   ]
  },
  {
   "cell_type": "code",
   "execution_count": null,
   "metadata": {},
   "outputs": [],
   "source": []
  },
  {
   "cell_type": "markdown",
   "metadata": {},
   "source": [
    "### Correlation"
   ]
  },
  {
   "cell_type": "markdown",
   "metadata": {},
   "source": [
    "We assess the correlation of features with the target column to ensure that we aren't passing any features to our $X$ data that are completely correlated to the target $y$ data."
   ]
  },
  {
   "cell_type": "code",
   "execution_count": 12,
   "metadata": {},
   "outputs": [
    {
     "data": {
      "text/html": [
       "<div>\n",
       "<style scoped>\n",
       "    .dataframe tbody tr th:only-of-type {\n",
       "        vertical-align: middle;\n",
       "    }\n",
       "\n",
       "    .dataframe tbody tr th {\n",
       "        vertical-align: top;\n",
       "    }\n",
       "\n",
       "    .dataframe thead th {\n",
       "        text-align: right;\n",
       "    }\n",
       "</style>\n",
       "<table border=\"1\" class=\"dataframe\">\n",
       "  <thead>\n",
       "    <tr style=\"text-align: right;\">\n",
       "      <th></th>\n",
       "      <th>recoveries</th>\n",
       "      <th>default_ind</th>\n",
       "    </tr>\n",
       "  </thead>\n",
       "  <tbody>\n",
       "    <tr>\n",
       "      <th>recoveries</th>\n",
       "      <td>1.000000</td>\n",
       "      <td>0.946281</td>\n",
       "    </tr>\n",
       "    <tr>\n",
       "      <th>collection_recovery_fee</th>\n",
       "      <td>0.999688</td>\n",
       "      <td>0.942494</td>\n",
       "    </tr>\n",
       "    <tr>\n",
       "      <th>default_ind</th>\n",
       "      <td>0.946281</td>\n",
       "      <td>1.000000</td>\n",
       "    </tr>\n",
       "    <tr>\n",
       "      <th>total_rec_late_fee</th>\n",
       "      <td>0.302127</td>\n",
       "      <td>0.341742</td>\n",
       "    </tr>\n",
       "    <tr>\n",
       "      <th>days_to_nxt_pymnt</th>\n",
       "      <td>0.111773</td>\n",
       "      <td>0.145368</td>\n",
       "    </tr>\n",
       "  </tbody>\n",
       "</table>\n",
       "</div>"
      ],
      "text/plain": [
       "                         recoveries  default_ind\n",
       "recoveries                 1.000000     0.946281\n",
       "collection_recovery_fee    0.999688     0.942494\n",
       "default_ind                0.946281     1.000000\n",
       "total_rec_late_fee         0.302127     0.341742\n",
       "days_to_nxt_pymnt          0.111773     0.145368"
      ]
     },
     "execution_count": 12,
     "metadata": {},
     "output_type": "execute_result"
    }
   ],
   "source": [
    "#----------------------observing highly correlated columns---------------------\n",
    "data_corr = (data.select_dtypes(include = np.number) > 0).copy().corr()\n",
    "\n",
    "data_corr.corr()[['recoveries', 'default_ind']].sort_values(\n",
    "                 ['recoveries', 'default_ind'], ascending = False).head()"
   ]
  },
  {
   "cell_type": "markdown",
   "metadata": {},
   "source": [
    "Finally, we save $3$ csv files for classification, regression and clustering (which is also the general file)."
   ]
  },
  {
   "cell_type": "code",
   "execution_count": 13,
   "metadata": {},
   "outputs": [],
   "source": [
    "#--------------------------------saving csv files------------------------------\n",
    "data.to_csv('data/data.csv', index = False)\n",
    "\n",
    "data.drop(['recoveries', 'collection_recovery_fee',\n",
    "           'total_rec_late_fee'], axis = 1).to_csv('data/class_data.csv',\n",
    "                                                   index = False)\n",
    "data.drop(['default_ind', 'collection_recovery_fee',\n",
    "           'total_rec_late_fee'], axis = 1).to_csv('data/reg_data.csv',\n",
    "                                                   index = False)"
   ]
  }
 ],
 "metadata": {
  "kernelspec": {
   "display_name": "Python 3.9.5 ('venice_env': venv)",
   "language": "python",
   "name": "python3"
  },
  "language_info": {
   "codemirror_mode": {
    "name": "ipython",
    "version": 3
   },
   "file_extension": ".py",
   "mimetype": "text/x-python",
   "name": "python",
   "nbconvert_exporter": "python",
   "pygments_lexer": "ipython3",
   "version": "3.9.5"
  },
  "orig_nbformat": 4,
  "vscode": {
   "interpreter": {
    "hash": "7f409a2b744f20bd0903ef33d6a34aad7e09f4938c59aa2daf04a1d40ff18772"
   }
  }
 },
 "nbformat": 4,
 "nbformat_minor": 2
}
