{
 "cells": [
  {
   "cell_type": "markdown",
   "metadata": {},
   "source": [
    "## Natural Language Processing\n",
    "\n",
    "We aim to predict the purpose of a loan, given by the <i>'purpose'</i> column, using the description entered by the applicant in the <i>'desc'</i> column."
   ]
  },
  {
   "cell_type": "code",
   "execution_count": 1,
   "metadata": {},
   "outputs": [],
   "source": [
    "#-----------------------------------packages-----------------------------------\n",
    "import pandas as pd\n",
    "import numpy as np\n",
    "import matplotlib.pyplot as plt\n",
    "\n",
    "import string\n",
    "from nltk.corpus import stopwords\n",
    "\n",
    "from sklearn.feature_extraction.text import CountVectorizer\n",
    "from sklearn.feature_extraction.text import  TfidfTransformer\n",
    "from sklearn.naive_bayes import MultinomialNB\n",
    "\n",
    "from sklearn.pipeline import Pipeline\n",
    "from sklearn.model_selection import train_test_split\n",
    "from sklearn.metrics import confusion_matrix, classification_report"
   ]
  },
  {
   "cell_type": "code",
   "execution_count": 2,
   "metadata": {},
   "outputs": [],
   "source": [
    "#----------------------------------load data-----------------------------------\n",
    "data = pd.read_csv('data/nlp_data.csv')"
   ]
  },
  {
   "cell_type": "code",
   "execution_count": 3,
   "metadata": {},
   "outputs": [],
   "source": [
    "#----------------------------------nlp model-----------------------------------\n",
    "X, y = data['desc'], data['purpose']\n",
    "\n",
    "def text_process(text):\n",
    "    no_punc = ''.join([char for char in text\n",
    "                       if char not in string.punctuation])\n",
    "    # remove common words\n",
    "    return [word for word in no_punc.split()\n",
    "            if word.lower() not in stopwords.words('english')]\n",
    "\n",
    "cv = CountVectorizer(analyzer=text_process)\n",
    "cv.fit(X)\n",
    "X = cv.transform(X)\n",
    "\n",
    "X_train, X_test, y_train, y_test = train_test_split(X, y, test_size=0.2,\n",
    "                                                    shuffle = True)\n",
    "model = MultinomialNB()\n",
    "model.fit(X_train,y_train)\n",
    "preds = model.predict(X_test)\n",
    "\n",
    "print(classification_report(y_test, preds, zero_division = 0))"
   ]
  }
 ],
 "metadata": {
  "kernelspec": {
   "display_name": "Python 3.9.5 ('venice_env': venv)",
   "language": "python",
   "name": "python3"
  },
  "language_info": {
   "codemirror_mode": {
    "name": "ipython",
    "version": 3
   },
   "file_extension": ".py",
   "mimetype": "text/x-python",
   "name": "python",
   "nbconvert_exporter": "python",
   "pygments_lexer": "ipython3",
   "version": "3.9.5"
  },
  "orig_nbformat": 4,
  "vscode": {
   "interpreter": {
    "hash": "7f409a2b744f20bd0903ef33d6a34aad7e09f4938c59aa2daf04a1d40ff18772"
   }
  }
 },
 "nbformat": 4,
 "nbformat_minor": 2
}
