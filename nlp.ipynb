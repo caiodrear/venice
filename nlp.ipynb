{
 "cells": [
  {
   "cell_type": "markdown",
   "metadata": {},
   "source": [
    "## Natural Language Processing\n",
    "\n",
    "We aim to predict the purpose of a loan, given by the <i>'purpose'</i> column, using the description entered by the applicant in the <i>'desc'</i> column."
   ]
  },
  {
   "cell_type": "code",
   "execution_count": 1,
   "metadata": {},
   "outputs": [],
   "source": [
    "#-----------------------------------packages-----------------------------------\n",
    "import pandas as pd\n",
    "import numpy as np\n",
    "import matplotlib.pyplot as plt\n",
    "\n",
    "import string\n",
    "from nltk.corpus import stopwords\n",
    "\n",
    "from sklearn.feature_extraction.text import CountVectorizer\n",
    "from sklearn.feature_extraction.text import  TfidfTransformer\n",
    "from sklearn.naive_bayes import MultinomialNB\n",
    "\n",
    "from sklearn.pipeline import Pipeline\n",
    "from sklearn.model_selection import train_test_split\n",
    "from sklearn.metrics import confusion_matrix, classification_report"
   ]
  },
  {
   "cell_type": "code",
   "execution_count": 2,
   "metadata": {},
   "outputs": [],
   "source": [
    "#----------------------------------load data-----------------------------------\n",
    "data = pd.read_csv('data/nlp_data.csv')"
   ]
  },
  {
   "cell_type": "code",
   "execution_count": 3,
   "metadata": {},
   "outputs": [
    {
     "name": "stdout",
     "output_type": "stream",
     "text": [
      "                    precision    recall  f1-score   support\n",
      "\n",
      "               car       0.65      0.12      0.21       410\n",
      "       credit_card       0.52      0.21      0.30      5191\n",
      "debt_consolidation       0.65      0.92      0.76     13761\n",
      "       educational       1.00      0.02      0.04        51\n",
      "  home_improvement       0.72      0.72      0.72      1466\n",
      "             house       0.00      0.00      0.00       176\n",
      "    major_purchase       0.48      0.12      0.19       607\n",
      "           medical       0.88      0.03      0.06       220\n",
      "            moving       0.00      0.00      0.00       180\n",
      "             other       0.22      0.10      0.14      1378\n",
      "  renewable_energy       0.00      0.00      0.00        29\n",
      "    small_business       0.70      0.64      0.67       526\n",
      "          vacation       0.12      0.01      0.02       107\n",
      "           wedding       0.89      0.06      0.11       261\n",
      "\n",
      "          accuracy                           0.63     24363\n",
      "         macro avg       0.49      0.21      0.23     24363\n",
      "      weighted avg       0.59      0.63      0.57     24363\n",
      "\n"
     ]
    }
   ],
   "source": [
    "#----------------------------------nlp model-----------------------------------\n",
    "X, y = data['desc'], data['purpose']\n",
    "\n",
    "def text_process(text):\n",
    "    no_punc = ''.join([char for char in text\n",
    "                       if char not in string.punctuation])\n",
    "    # remove common words\n",
    "    return [word for word in no_punc.split()\n",
    "            if word.lower() not in stopwords.words('english')]\n",
    "\n",
    "cv = CountVectorizer(analyzer=text_process)\n",
    "cv.fit(X)\n",
    "X = cv.transform(X)\n",
    "\n",
    "X_train, X_test, y_train, y_test = train_test_split(X, y, test_size=0.2,\n",
    "                                                    shuffle = True)\n",
    "model = MultinomialNB()\n",
    "model.fit(X_train,y_train)\n",
    "preds = model.predict(X_test)\n",
    "\n",
    "print(classification_report(y_test, preds, zero_division = 0))"
   ]
  }
 ],
 "metadata": {
  "kernelspec": {
   "display_name": "Python 3.9.5 ('venice_env': venv)",
   "language": "python",
   "name": "python3"
  },
  "language_info": {
   "codemirror_mode": {
    "name": "ipython",
    "version": 3
   },
   "file_extension": ".py",
   "mimetype": "text/x-python",
   "name": "python",
   "nbconvert_exporter": "python",
   "pygments_lexer": "ipython3",
   "version": "3.9.5"
  },
  "orig_nbformat": 4,
  "vscode": {
   "interpreter": {
    "hash": "7f409a2b744f20bd0903ef33d6a34aad7e09f4938c59aa2daf04a1d40ff18772"
   }
  }
 },
 "nbformat": 4,
 "nbformat_minor": 2
}
